{
 "cells": [
  {
   "cell_type": "code",
   "execution_count": 1,
   "metadata": {},
   "outputs": [],
   "source": [
    "import numpy as np\n",
    "import torch\n",
    "import torch.nn as nn\n",
    "import torch.optim as optim\n",
    "import torch.nn.functional as F\n",
    "from torch.utils.data import Dataset, DataLoader\n",
    "\n",
    "import matplotlib.pyplot as plt"
   ]
  },
  {
   "cell_type": "code",
   "execution_count": 2,
   "metadata": {},
   "outputs": [],
   "source": [
    "class ExoplanetDataset(Dataset):\n",
    "    \"\"\"Exoplanet dataset.\"\"\"\n",
    "\n",
    "    def __init__(self, X, y, standardize=True, totensor=True):\n",
    "        \"\"\"\n",
    "        Args:\n",
    "            csv_file (string): Path to the csv file.\n",
    "            transform (callable, optional): Optional transform to be applied\n",
    "                on a sample.\n",
    "        \"\"\"\n",
    "        self.X = X\n",
    "        self.y = y\n",
    "        self.standardize = standardize\n",
    "        self.totensor = totensor\n",
    "\n",
    "    def __len__(self):\n",
    "        return self.X.shape[0]\n",
    "\n",
    "    def __getitem__(self, idx):\n",
    "        x = self.X[idx]\n",
    "\n",
    "        if self.standardize:\n",
    "            x = (x - np.mean(x)) / np.std(x)\n",
    "\n",
    "        if self.totensor:\n",
    "            x = torch.tensor(x, dtype=torch.float).unsqueeze(0)\n",
    "\n",
    "        sample = (int(self.y[idx]), x)\n",
    "        return sample"
   ]
  },
  {
   "cell_type": "code",
   "execution_count": 7,
   "metadata": {},
   "outputs": [],
   "source": [
    "data = np.genfromtxt(\"../../data/kepler-labelled-time-series-data/exoTrain.csv\", delimiter=',')\n",
    "data = data[~np.isnan(data).any(axis=1)]\n",
    "X = data[:, 1:]\n",
    "y = data[:, 0] - 1\n",
    "\n",
    "dataset = ExoplanetDataset(X, y)\n",
    "cuda_available = torch.cuda.is_available()\n",
    "\n",
    "device = torch.device(\"cuda\" if cuda_available else \"cpu\")\n",
    "\n",
    "kwargs = {'num_workers': 1, 'pin_memory': True} if cuda_available else {}\n",
    "train_loader = DataLoader(dataset, batch_size=32, shuffle=True, **kwargs)"
   ]
  },
  {
   "cell_type": "code",
   "execution_count": 8,
   "metadata": {},
   "outputs": [],
   "source": [
    "def train(model, device, train_loader, criterion, optimizer, epoch, log_interval):\n",
    "    model.train()\n",
    "    for batch_idx, (target, data) in enumerate(train_loader):\n",
    "        data, target = data.to(device), target.to(device)\n",
    "        optimizer.zero_grad()\n",
    "        output = model(data)\n",
    "        loss = criterion(output, target)\n",
    "        loss.backward()\n",
    "        optimizer.step()\n",
    "        if batch_idx % log_interval == 0:\n",
    "            print('Train Epoch: {} [{}/{} ({:.0f}%)]\\tLoss: {:.6f}'.format(\n",
    "                epoch, batch_idx * len(data), len(train_loader.dataset),\n",
    "                100. * batch_idx / len(train_loader), loss.item()))"
   ]
  },
  {
   "cell_type": "code",
   "execution_count": 9,
   "metadata": {},
   "outputs": [],
   "source": [
    "class Net(nn.Module):\n",
    "    def __init__(self):\n",
    "        super(Net, self).__init__()\n",
    "        self.conv1 = nn.Conv1d(1, 20, kernel_size=5, stride=1)\n",
    "        self.maxpool1 = nn.MaxPool1d(kernel_size=5)\n",
    "        self.conv2 = nn.Conv1d(20, 50, kernel_size=5, stride=1)\n",
    "        self.maxpool2 = nn.MaxPool1d(kernel_size=3)\n",
    "        self.conv3 = nn.Conv1d(50, 100, kernel_size=3, stride=1)\n",
    "        self.maxpool3 = nn.MaxPool1d(kernel_size=3)\n",
    "        \n",
    "        self.fc1 = nn.Linear(100 * 210, 500)\n",
    "        self.fc2 = nn.Linear(500, 2)\n",
    "\n",
    "    def forward(self, x):\n",
    "        x = F.relu(self.conv1(x))\n",
    "        x = self.maxpool1(x)\n",
    "        x = F.relu(self.conv2(x))\n",
    "        self.maxpool2(x)\n",
    "        x = F.relu(self.conv3(x))\n",
    "        x = self.maxpool3(x)\n",
    "        \n",
    "        x = x.view(-1, 100 * 210)\n",
    "        x = F.relu(self.fc1(x))\n",
    "        x = self.fc2(x)\n",
    "        return F.log_softmax(x, dim=1)"
   ]
  },
  {
   "cell_type": "code",
   "execution_count": 10,
   "metadata": {},
   "outputs": [],
   "source": [
    "\n",
    "model = Net().to(device)\n",
    "\n",
    "criterion = torch.nn.CrossEntropyLoss()\n",
    "optimizer = optim.SGD(model.parameters(), lr=0.01, momentum=0.9)"
   ]
  },
  {
   "cell_type": "code",
   "execution_count": 12,
   "metadata": {},
   "outputs": [
    {
     "name": "stdout",
     "output_type": "stream",
     "text": [
      "Train Epoch: 0 [0/5087 (0%)]\tLoss: 0.669585\n",
      "Train Epoch: 0 [3200/5087 (63%)]\tLoss: 0.001029\n",
      "Train Epoch: 1 [0/5087 (0%)]\tLoss: 0.010628\n",
      "Train Epoch: 1 [3200/5087 (63%)]\tLoss: 0.012799\n",
      "Train Epoch: 2 [0/5087 (0%)]\tLoss: 0.006888\n",
      "Train Epoch: 2 [3200/5087 (63%)]\tLoss: 0.017979\n",
      "Train Epoch: 3 [0/5087 (0%)]\tLoss: 0.006061\n",
      "Train Epoch: 3 [3200/5087 (63%)]\tLoss: 0.096418\n",
      "Train Epoch: 4 [0/5087 (0%)]\tLoss: 0.010106\n",
      "Train Epoch: 4 [3200/5087 (63%)]\tLoss: 0.003945\n",
      "Train Epoch: 5 [0/5087 (0%)]\tLoss: 0.005902\n",
      "Train Epoch: 5 [3200/5087 (63%)]\tLoss: 0.001401\n",
      "Train Epoch: 6 [0/5087 (0%)]\tLoss: 0.001180\n",
      "Train Epoch: 6 [3200/5087 (63%)]\tLoss: 0.003261\n",
      "Train Epoch: 7 [0/5087 (0%)]\tLoss: 0.001734\n",
      "Train Epoch: 7 [3200/5087 (63%)]\tLoss: 0.000098\n",
      "Train Epoch: 8 [0/5087 (0%)]\tLoss: 0.001609\n",
      "Train Epoch: 8 [3200/5087 (63%)]\tLoss: 0.000652\n",
      "Train Epoch: 9 [0/5087 (0%)]\tLoss: 0.001451\n",
      "Train Epoch: 9 [3200/5087 (63%)]\tLoss: 0.004287\n"
     ]
    }
   ],
   "source": [
    "for epoch in range(10):\n",
    "    train(model, device, train_loader, criterion, optimizer, epoch, 100)"
   ]
  }
 ],
 "metadata": {
  "kernelspec": {
   "display_name": "Python 3",
   "language": "python",
   "name": "python3"
  },
  "language_info": {
   "codemirror_mode": {
    "name": "ipython",
    "version": 3
   },
   "file_extension": ".py",
   "mimetype": "text/x-python",
   "name": "python",
   "nbconvert_exporter": "python",
   "pygments_lexer": "ipython3",
   "version": "3.7.3"
  }
 },
 "nbformat": 4,
 "nbformat_minor": 2
}
