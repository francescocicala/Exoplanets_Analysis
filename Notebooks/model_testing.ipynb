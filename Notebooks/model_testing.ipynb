{
 "cells": [
  {
   "cell_type": "code",
   "execution_count": 1,
   "metadata": {},
   "outputs": [],
   "source": [
    "import numpy as np\n",
    "import torch\n",
    "import torch.nn as nn\n",
    "import torch.optim as optim\n",
    "import torch.nn.functional as F\n",
    "from torch.utils.data import Dataset, DataLoader\n",
    "\n",
    "import matplotlib.pyplot as plt"
   ]
  },
  {
   "cell_type": "code",
   "execution_count": 2,
   "metadata": {},
   "outputs": [
    {
     "data": {
      "text/plain": [
       "False"
      ]
     },
     "execution_count": 2,
     "metadata": {},
     "output_type": "execute_result"
    }
   ],
   "source": [
    "torch.cuda.is_available()"
   ]
  },
  {
   "cell_type": "code",
   "execution_count": 2,
   "metadata": {},
   "outputs": [],
   "source": [
    "class ExoplanetDataset(Dataset):\n",
    "    \"\"\"Exoplanet dataset.\"\"\"\n",
    "\n",
    "    def __init__(self, X, y, standardize=True, totensor=True, moving_average=1):\n",
    "        self.X = X\n",
    "        self.y = y\n",
    "        self.standardize = standardize\n",
    "        self.totensor = totensor\n",
    "        self.moving_average = moving_average\n",
    "\n",
    "    def __len__(self):\n",
    "        return self.X.shape[0]\n",
    "\n",
    "    def __getitem__(self, idx):\n",
    "        x = self.X[idx]\n",
    "        x = np.convolve(x, np.ones((self.moving_average,))/self.moving_average, mode='valid')\n",
    "        \n",
    "        if self.standardize:\n",
    "            x = (x - np.mean(x)) / (np.std(x) + 0.01)\n",
    "        \n",
    "        if self.totensor:\n",
    "            x = torch.tensor(x, dtype=torch.float).unsqueeze(0)\n",
    "\n",
    "        sample = (int(self.y[idx]), x)\n",
    "        return sample"
   ]
  },
  {
   "cell_type": "code",
   "execution_count": 3,
   "metadata": {},
   "outputs": [],
   "source": [
    "def remove_nan(data):\n",
    "    return data[~np.isnan(data).any(axis=1)]\n",
    "\n",
    "def split_X_y(data):\n",
    "    X = data[:, 0:-1]\n",
    "    y = data[:, -1]- 1\n",
    "    return X, y"
   ]
  },
  {
   "cell_type": "code",
   "execution_count": 8,
   "metadata": {},
   "outputs": [],
   "source": [
    "### Import data ###\n",
    "data_train = np.genfromtxt(\"../../data/kepler-labelled-time-series-data/TRAIN.csv\", delimiter=',')\n",
    "data_train = remove_nan(data_train)\n",
    "\n",
    "data_valid = np.genfromtxt(\"../../data/kepler-labelled-time-series-data/VALIDATION.csv\", delimiter=',')\n",
    "data_valid = remove_nan(data_valid)"
   ]
  },
  {
   "cell_type": "code",
   "execution_count": 67,
   "metadata": {},
   "outputs": [
    {
     "name": "stdout",
     "output_type": "stream",
     "text": [
      "data points in training set: 7498\n",
      "training input shape: torch.Size([1, 3098])\n",
      "\n",
      "data points in validation set: 1273\n",
      "validation input shape: torch.Size([1, 3098])\n",
      "\n"
     ]
    }
   ],
   "source": [
    "### Setup for training ###\n",
    "X_train, y_train = split_X_y(data_train)\n",
    "\n",
    "dataset_train = ExoplanetDataset(X_train, y_train, moving_average=100)\n",
    "print(\"data points in training set: {}\".format(len(dataset_train)))\n",
    "print(\"training input shape: {}\\n\".format(dataset_train[0][1].shape))\n",
    "\n",
    "X_val, y_val = split_X_y(data_valid)\n",
    "dataset_val = ExoplanetDataset(X_val, y_val, moving_average=100)\n",
    "print(\"data points in validation set: {}\".format(len(dataset_val)))\n",
    "print(\"validation input shape: {}\\n\".format(dataset_val[0][1].shape))\n",
    "X_val_tens = np.asarray([dataset_val[i][1].numpy() for i in range(len(dataset_val))])\n",
    "X_val_tens = torch.tensor(X_val_tens)\n",
    "targets_val = np.asarray([dataset_val[i][0] for i in range(len(dataset_val))])\n",
    "\n",
    "cuda_available = torch.cuda.is_available()\n",
    "\n",
    "device = torch.device(\"cuda\" if cuda_available else \"cpu\")\n",
    "\n",
    "kwargs = {'num_workers': 1, 'pin_memory': True} if cuda_available else {}\n",
    "train_loader = DataLoader(dataset_train, batch_size=32, shuffle=True, **kwargs)"
   ]
  },
  {
   "cell_type": "code",
   "execution_count": 68,
   "metadata": {},
   "outputs": [],
   "source": [
    "class Net(nn.Module):\n",
    "    def __init__(self):\n",
    "        super(Net, self).__init__()\n",
    "        self.conv1 = nn.Conv1d(1, 20, kernel_size=5, stride=1)\n",
    "        self.maxpool1 = nn.MaxPool1d(kernel_size=5)\n",
    "        self.conv2 = nn.Conv1d(20, 50, kernel_size=5, stride=1)\n",
    "        self.maxpool2 = nn.MaxPool1d(kernel_size=3)\n",
    "        self.conv3 = nn.Conv1d(50, 100, kernel_size=3, stride=1)\n",
    "        self.maxpool3 = nn.MaxPool1d(kernel_size=3)\n",
    "        \n",
    "        self.fc1 = nn.Linear(100 * 204, 500)\n",
    "        self.fc2 = nn.Linear(500, 2)\n",
    "\n",
    "    def forward(self, x):\n",
    "        x = F.relu(self.conv1(x))\n",
    "        x = self.maxpool1(x)\n",
    "        x = F.relu(self.conv2(x))\n",
    "        self.maxpool2(x)\n",
    "        x = F.relu(self.conv3(x))\n",
    "        x = self.maxpool3(x)\n",
    "        x = x.view(-1, 100 * 204)\n",
    "        x = F.relu(self.fc1(x))\n",
    "        x = self.fc2(x)\n",
    "        return x\n",
    "    \n",
    "\n",
    "### Model initialization ###\n",
    "model = Net().to(device)\n",
    "criterion = torch.nn.CrossEntropyLoss()\n",
    "optimizer = optim.SGD(model.parameters(), lr=0.001, momentum=0.9)"
   ]
  },
  {
   "cell_type": "code",
   "execution_count": 115,
   "metadata": {},
   "outputs": [
    {
     "name": "stdout",
     "output_type": "stream",
     "text": [
      "Train Epoch: 0 [0/7498 (0%)]\n",
      "Loss on train: 0.000511\n",
      "Accuracy: 0.014139827179890024% over 1273 data points. \n",
      "FN ratio: 0.0\n",
      "\n",
      "Train Epoch: 0 [3200/7498 (43%)]\n",
      "Loss on train: 0.000993\n",
      "Accuracy: 0.012568735271013355% over 1273 data points. \n",
      "FN ratio: 0.0\n",
      "\n",
      "Train Epoch: 0 [6400/7498 (85%)]\n",
      "Loss on train: 0.001011\n",
      "Accuracy: 0.012568735271013355% over 1273 data points. \n",
      "FN ratio: 0.0\n",
      "\n",
      "Train Epoch: 1 [0/7498 (0%)]\n",
      "Loss on train: 0.000478\n",
      "Accuracy: 0.015710919088766692% over 1273 data points. \n",
      "FN ratio: 0.0\n",
      "\n",
      "Train Epoch: 1 [3200/7498 (43%)]\n",
      "Loss on train: 0.000187\n",
      "Accuracy: 0.014139827179890024% over 1273 data points. \n",
      "FN ratio: 0.0\n",
      "\n",
      "Train Epoch: 1 [6400/7498 (85%)]\n",
      "Loss on train: 0.000566\n",
      "Accuracy: 0.012568735271013355% over 1273 data points. \n",
      "FN ratio: 0.0\n",
      "\n",
      "Train Epoch: 2 [0/7498 (0%)]\n",
      "Loss on train: 0.000803\n",
      "Accuracy: 0.014139827179890024% over 1273 data points. \n",
      "FN ratio: 0.0\n",
      "\n",
      "Train Epoch: 2 [3200/7498 (43%)]\n",
      "Loss on train: 0.000436\n",
      "Accuracy: 0.012568735271013355% over 1273 data points. \n",
      "FN ratio: 0.0\n",
      "\n"
     ]
    },
    {
     "ename": "KeyboardInterrupt",
     "evalue": "",
     "output_type": "error",
     "traceback": [
      "\u001b[0;31m---------------------------------------------------------------------------\u001b[0m",
      "\u001b[0;31mKeyboardInterrupt\u001b[0m                         Traceback (most recent call last)",
      "\u001b[0;32m<ipython-input-115-81bdb1c7f5ef>\u001b[0m in \u001b[0;36m<module>\u001b[0;34m\u001b[0m\n\u001b[1;32m     30\u001b[0m \u001b[0;31m### Training ###\u001b[0m\u001b[0;34m\u001b[0m\u001b[0;34m\u001b[0m\u001b[0;34m\u001b[0m\u001b[0m\n\u001b[1;32m     31\u001b[0m \u001b[0;32mfor\u001b[0m \u001b[0mepoch\u001b[0m \u001b[0;32min\u001b[0m \u001b[0mrange\u001b[0m\u001b[0;34m(\u001b[0m\u001b[0;36m10\u001b[0m\u001b[0;34m)\u001b[0m\u001b[0;34m:\u001b[0m\u001b[0;34m\u001b[0m\u001b[0;34m\u001b[0m\u001b[0m\n\u001b[0;32m---> 32\u001b[0;31m     \u001b[0mtrain\u001b[0m\u001b[0;34m(\u001b[0m\u001b[0mmodel\u001b[0m\u001b[0;34m,\u001b[0m \u001b[0mdevice\u001b[0m\u001b[0;34m,\u001b[0m \u001b[0mtrain_loader\u001b[0m\u001b[0;34m,\u001b[0m \u001b[0mcriterion\u001b[0m\u001b[0;34m,\u001b[0m \u001b[0moptimizer\u001b[0m\u001b[0;34m,\u001b[0m \u001b[0mepoch\u001b[0m\u001b[0;34m,\u001b[0m \u001b[0;36m100\u001b[0m\u001b[0;34m)\u001b[0m\u001b[0;34m\u001b[0m\u001b[0;34m\u001b[0m\u001b[0m\n\u001b[0m",
      "\u001b[0;32m<ipython-input-115-81bdb1c7f5ef>\u001b[0m in \u001b[0;36mtrain\u001b[0;34m(model, device, train_loader, criterion, optimizer, epoch, log_interval)\u001b[0m\n\u001b[1;32m     16\u001b[0m         \u001b[0moutput\u001b[0m \u001b[0;34m=\u001b[0m \u001b[0mmodel\u001b[0m\u001b[0;34m(\u001b[0m\u001b[0mdata\u001b[0m\u001b[0;34m)\u001b[0m\u001b[0;34m\u001b[0m\u001b[0;34m\u001b[0m\u001b[0m\n\u001b[1;32m     17\u001b[0m         \u001b[0mloss\u001b[0m \u001b[0;34m=\u001b[0m \u001b[0mcriterion\u001b[0m\u001b[0;34m(\u001b[0m\u001b[0moutput\u001b[0m\u001b[0;34m,\u001b[0m \u001b[0mtarget\u001b[0m\u001b[0;34m)\u001b[0m\u001b[0;34m\u001b[0m\u001b[0;34m\u001b[0m\u001b[0m\n\u001b[0;32m---> 18\u001b[0;31m         \u001b[0mloss\u001b[0m\u001b[0;34m.\u001b[0m\u001b[0mbackward\u001b[0m\u001b[0;34m(\u001b[0m\u001b[0;34m)\u001b[0m\u001b[0;34m\u001b[0m\u001b[0;34m\u001b[0m\u001b[0m\n\u001b[0m\u001b[1;32m     19\u001b[0m         \u001b[0moptimizer\u001b[0m\u001b[0;34m.\u001b[0m\u001b[0mstep\u001b[0m\u001b[0;34m(\u001b[0m\u001b[0;34m)\u001b[0m\u001b[0;34m\u001b[0m\u001b[0;34m\u001b[0m\u001b[0m\n\u001b[1;32m     20\u001b[0m         \u001b[0;32mif\u001b[0m \u001b[0mbatch_idx\u001b[0m \u001b[0;34m%\u001b[0m \u001b[0mlog_interval\u001b[0m \u001b[0;34m==\u001b[0m \u001b[0;36m0\u001b[0m\u001b[0;34m:\u001b[0m\u001b[0;34m\u001b[0m\u001b[0;34m\u001b[0m\u001b[0m\n",
      "\u001b[0;32m~/miniconda3/envs/torchEnv/lib/python3.7/site-packages/torch/tensor.py\u001b[0m in \u001b[0;36mbackward\u001b[0;34m(self, gradient, retain_graph, create_graph)\u001b[0m\n\u001b[1;32m    105\u001b[0m                 \u001b[0mproducts\u001b[0m\u001b[0;34m.\u001b[0m \u001b[0mDefaults\u001b[0m \u001b[0mto\u001b[0m\u001b[0;31m \u001b[0m\u001b[0;31m`\u001b[0m\u001b[0;31m`\u001b[0m\u001b[0;32mFalse\u001b[0m\u001b[0;31m`\u001b[0m\u001b[0;31m`\u001b[0m\u001b[0;34m.\u001b[0m\u001b[0;34m\u001b[0m\u001b[0;34m\u001b[0m\u001b[0m\n\u001b[1;32m    106\u001b[0m         \"\"\"\n\u001b[0;32m--> 107\u001b[0;31m         \u001b[0mtorch\u001b[0m\u001b[0;34m.\u001b[0m\u001b[0mautograd\u001b[0m\u001b[0;34m.\u001b[0m\u001b[0mbackward\u001b[0m\u001b[0;34m(\u001b[0m\u001b[0mself\u001b[0m\u001b[0;34m,\u001b[0m \u001b[0mgradient\u001b[0m\u001b[0;34m,\u001b[0m \u001b[0mretain_graph\u001b[0m\u001b[0;34m,\u001b[0m \u001b[0mcreate_graph\u001b[0m\u001b[0;34m)\u001b[0m\u001b[0;34m\u001b[0m\u001b[0;34m\u001b[0m\u001b[0m\n\u001b[0m\u001b[1;32m    108\u001b[0m \u001b[0;34m\u001b[0m\u001b[0m\n\u001b[1;32m    109\u001b[0m     \u001b[0;32mdef\u001b[0m \u001b[0mregister_hook\u001b[0m\u001b[0;34m(\u001b[0m\u001b[0mself\u001b[0m\u001b[0;34m,\u001b[0m \u001b[0mhook\u001b[0m\u001b[0;34m)\u001b[0m\u001b[0;34m:\u001b[0m\u001b[0;34m\u001b[0m\u001b[0;34m\u001b[0m\u001b[0m\n",
      "\u001b[0;32m~/miniconda3/envs/torchEnv/lib/python3.7/site-packages/torch/autograd/__init__.py\u001b[0m in \u001b[0;36mbackward\u001b[0;34m(tensors, grad_tensors, retain_graph, create_graph, grad_variables)\u001b[0m\n\u001b[1;32m     91\u001b[0m     Variable._execution_engine.run_backward(\n\u001b[1;32m     92\u001b[0m         \u001b[0mtensors\u001b[0m\u001b[0;34m,\u001b[0m \u001b[0mgrad_tensors\u001b[0m\u001b[0;34m,\u001b[0m \u001b[0mretain_graph\u001b[0m\u001b[0;34m,\u001b[0m \u001b[0mcreate_graph\u001b[0m\u001b[0;34m,\u001b[0m\u001b[0;34m\u001b[0m\u001b[0;34m\u001b[0m\u001b[0m\n\u001b[0;32m---> 93\u001b[0;31m         allow_unreachable=True)  # allow_unreachable flag\n\u001b[0m\u001b[1;32m     94\u001b[0m \u001b[0;34m\u001b[0m\u001b[0m\n\u001b[1;32m     95\u001b[0m \u001b[0;34m\u001b[0m\u001b[0m\n",
      "\u001b[0;31mKeyboardInterrupt\u001b[0m: "
     ]
    }
   ],
   "source": [
    "def validate(model, X_val_tens, targets_val, threshold = 0.5):  \n",
    "    preds = classify(model, X_val_tens, threshold)\n",
    "    fn_ratio(preds, targets_val)\n",
    "    accuracy = (preds == targets_val).sum()\n",
    "   \n",
    "    accuracy /= len(X_val_tens)\n",
    "    print(\"Accuracy: {}% over {} data points. \\nFN ratio: {}\\n\".format(\n",
    "        accuracy, len(X_val_tens), fn_ratio(preds, targets_val)))\n",
    "    \n",
    "\n",
    "def train(model, device, train_loader, criterion, optimizer, epoch, log_interval):\n",
    "    model.train()\n",
    "    for batch_idx, (target, data) in enumerate(train_loader):\n",
    "        data, target = data.to(device), target.to(device)\n",
    "        optimizer.zero_grad()\n",
    "        output = model(data)\n",
    "        loss = criterion(output, target)\n",
    "        loss.backward()\n",
    "        optimizer.step()\n",
    "        if batch_idx % log_interval == 0:\n",
    "            print('Train Epoch: {} [{}/{} ({:.0f}%)]\\nLoss on train: {:.6f}'.format(\n",
    "                epoch, batch_idx * len(data), len(train_loader.dataset),\n",
    "                100. * batch_idx / len(train_loader), loss.item()))\n",
    "            \n",
    "            ### validate\n",
    "            validate(model, X_val_tens, targets_val) \n",
    "            \n",
    "\n",
    "\n",
    "### Training ###         \n",
    "for epoch in range(10):\n",
    "    train(model, device, train_loader, criterion, optimizer, epoch, 100)"
   ]
  },
  {
   "cell_type": "code",
   "execution_count": null,
   "metadata": {},
   "outputs": [],
   "source": [
    "def get_probabilities(model, X):\n",
    "    return F.softmax(model(X), dim=1).detach().numpy()[:, 0]\n",
    "\n",
    "\n",
    "def classify(model, X, threshold):\n",
    "    probs = get_probabilities(model, X)\n",
    "    return (probs > threshold).astype(int)\n",
    "\n",
    "\n",
    "def false_negatives(preds, targets):\n",
    "    is_wrong = (preds != targets).astype(int)\n",
    "    is_positive = (targets == 1).astype(int)\n",
    "    is_fn = ((is_wrong + is_positive) == 2).astype(int)\n",
    "    return is_fn.sum()\n",
    "\n",
    "def fn_ratio(preds, targets):\n",
    "    return false_negatives(preds, targets)/len(preds)"
   ]
  },
  {
   "cell_type": "code",
   "execution_count": 109,
   "metadata": {},
   "outputs": [
    {
     "data": {
      "text/plain": [
       "1273"
      ]
     },
     "execution_count": 109,
     "metadata": {},
     "output_type": "execute_result"
    }
   ],
   "source": [
    "preds = classify(model, X_val_tens, 0.8)\n",
    "len(preds)"
   ]
  },
  {
   "cell_type": "code",
   "execution_count": 5,
   "metadata": {},
   "outputs": [
    {
     "data": {
      "text/plain": [
       "array([False,  True,  True])"
      ]
     },
     "execution_count": 5,
     "metadata": {},
     "output_type": "execute_result"
    }
   ],
   "source": [
    "a = np.array([1, 2, 3])\n",
    "b = np.array([2, 1, 2])\n",
    "a > b"
   ]
  },
  {
   "cell_type": "code",
   "execution_count": 6,
   "metadata": {},
   "outputs": [
    {
     "ename": "ModuleNotFoundError",
     "evalue": "No module named 'sklearn'",
     "output_type": "error",
     "traceback": [
      "\u001b[0;31m---------------------------------------------------------------------------\u001b[0m",
      "\u001b[0;31mModuleNotFoundError\u001b[0m                       Traceback (most recent call last)",
      "\u001b[0;32m<ipython-input-6-b7c74cbf5af0>\u001b[0m in \u001b[0;36m<module>\u001b[0;34m\u001b[0m\n\u001b[0;32m----> 1\u001b[0;31m \u001b[0;32mimport\u001b[0m \u001b[0msklearn\u001b[0m\u001b[0;34m\u001b[0m\u001b[0;34m\u001b[0m\u001b[0m\n\u001b[0m",
      "\u001b[0;31mModuleNotFoundError\u001b[0m: No module named 'sklearn'"
     ]
    }
   ],
   "source": [
    "import sklearn"
   ]
  },
  {
   "cell_type": "code",
   "execution_count": 7,
   "metadata": {},
   "outputs": [
    {
     "data": {
      "text/plain": [
       "2"
      ]
     },
     "execution_count": 7,
     "metadata": {},
     "output_type": "execute_result"
    }
   ],
   "source": [
    "np.argmax(a)"
   ]
  },
  {
   "cell_type": "code",
   "execution_count": null,
   "metadata": {},
   "outputs": [],
   "source": []
  }
 ],
 "metadata": {
  "kernelspec": {
   "display_name": "Python 3",
   "language": "python",
   "name": "python3"
  },
  "language_info": {
   "codemirror_mode": {
    "name": "ipython",
    "version": 3
   },
   "file_extension": ".py",
   "mimetype": "text/x-python",
   "name": "python",
   "nbconvert_exporter": "python",
   "pygments_lexer": "ipython3",
   "version": "3.7.3"
  }
 },
 "nbformat": 4,
 "nbformat_minor": 2
}
