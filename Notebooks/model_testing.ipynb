{
 "cells": [
  {
   "cell_type": "code",
   "execution_count": 325,
   "metadata": {},
   "outputs": [],
   "source": [
    "import numpy as np\n",
    "import torch\n",
    "import torch.nn as nn\n",
    "import torch.optim as optim\n",
    "import torch.nn.functional as F\n",
    "from torch.utils.data import Dataset, DataLoader\n",
    "\n",
    "import matplotlib.pyplot as plt"
   ]
  },
  {
   "cell_type": "code",
   "execution_count": 326,
   "metadata": {},
   "outputs": [],
   "source": [
    "class ExoplanetDataset(Dataset):\n",
    "    \"\"\"Exoplanet dataset.\"\"\"\n",
    "\n",
    "    def __init__(self, X, y, standardize=True, totensor=True, moving_average=1):\n",
    "        self.X = X\n",
    "        self.y = y\n",
    "        self.standardize = standardize\n",
    "        self.totensor = totensor\n",
    "        self.moving_average = moving_average\n",
    "\n",
    "    def __len__(self):\n",
    "        return self.X.shape[0]\n",
    "\n",
    "    def __getitem__(self, idx):\n",
    "        x = self.X[idx]\n",
    "        x = np.convolve(x, np.ones((self.moving_average,))/self.moving_average, mode='valid')\n",
    "        \n",
    "        if self.standardize:\n",
    "            x = (x - np.mean(x)) / (np.std(x) + 0.01)\n",
    "        \n",
    "        if self.totensor:\n",
    "            x = torch.tensor(x, dtype=torch.float).unsqueeze(0)\n",
    "\n",
    "        sample = (int(self.y[idx]), x)\n",
    "        return sample"
   ]
  },
  {
   "cell_type": "code",
   "execution_count": 332,
   "metadata": {},
   "outputs": [],
   "source": [
    "def remove_nan(data):\n",
    "    return data[~np.isnan(data).any(axis=1)]\n",
    "\n",
    "\n",
    "def split_train_test(data, ratio=0.7, shuffle=True):\n",
    "    np.random.shuffle(data)\n",
    "    \n",
    "    length = len(data)\n",
    "    data_train = data[0 : int(ratio * length)]\n",
    "    data_test = data[int(ratio * length) : ]\n",
    "    return data_train, data_test\n",
    "\n",
    "def split_X_y(data):\n",
    "    X = data[:, 0:-1]\n",
    "    y = data[:, -1]- 1\n",
    "    return X, y"
   ]
  },
  {
   "cell_type": "code",
   "execution_count": 328,
   "metadata": {},
   "outputs": [],
   "source": [
    "### Import data ###\n",
    "data = np.genfromtxt(\"../../data/kepler-labelled-time-series-data/exoTrain_AUG_FILT.csv\", delimiter=',')\n",
    "data = remove_nan(data)"
   ]
  },
  {
   "cell_type": "code",
   "execution_count": 343,
   "metadata": {},
   "outputs": [
    {
     "name": "stdout",
     "output_type": "stream",
     "text": [
      "X_train shape: (7070, 3197);\n",
      "X_test shape: (3030, 3197);\n"
     ]
    }
   ],
   "source": [
    "### Setup for training ###\n",
    "data_train, data_test = split_train_test(data)\n",
    "X_train, y_train = split_X_y(data_train)\n",
    "X_test, y_test = split_X_y(data_test)\n",
    "\n",
    "print(\"X_train shape: {};\".format(X_train.shape))\n",
    "print(\"X_test shape: {};\".format(X_test.shape))\n",
    "\n",
    "\n",
    "\n",
    "dataset_train = ExoplanetDataset(X_train, y_train, moving_average=100)\n",
    "dataset_test = ExoplanetDataset(X_test, y_test, moving_average=100)\n",
    "\n",
    "cuda_available = torch.cuda.is_available()\n",
    "\n",
    "device = torch.device(\"cuda\" if cuda_available else \"cpu\")\n",
    "\n",
    "kwargs = {'num_workers': 1, 'pin_memory': True} if cuda_available else {}\n",
    "train_loader = DataLoader(dataset_train, batch_size=32, shuffle=True, **kwargs)"
   ]
  },
  {
   "cell_type": "code",
   "execution_count": 348,
   "metadata": {},
   "outputs": [],
   "source": [
    "class Net(nn.Module):\n",
    "    def __init__(self):\n",
    "        super(Net, self).__init__()\n",
    "        self.conv1 = nn.Conv1d(1, 20, kernel_size=5, stride=1)\n",
    "        self.maxpool1 = nn.MaxPool1d(kernel_size=5)\n",
    "        self.conv2 = nn.Conv1d(20, 50, kernel_size=5, stride=1)\n",
    "        self.maxpool2 = nn.MaxPool1d(kernel_size=3)\n",
    "        self.conv3 = nn.Conv1d(50, 100, kernel_size=3, stride=1)\n",
    "        self.maxpool3 = nn.MaxPool1d(kernel_size=3)\n",
    "        \n",
    "        self.fc1 = nn.Linear(100 * 204, 500)\n",
    "        self.fc2 = nn.Linear(500, 2)\n",
    "\n",
    "    def forward(self, x):\n",
    "        x = F.relu(self.conv1(x))\n",
    "        x = self.maxpool1(x)\n",
    "        x = F.relu(self.conv2(x))\n",
    "        self.maxpool2(x)\n",
    "        x = F.relu(self.conv3(x))\n",
    "        x = self.maxpool3(x)\n",
    "        x = x.view(-1, 100 * 204)\n",
    "        x = F.relu(self.fc1(x))\n",
    "        x = self.fc2(x)\n",
    "        return F.log_softmax(x, dim=1)\n",
    "    \n",
    "\n",
    "### Model initialization ###\n",
    "model = Net().to(device)\n",
    "criterion = torch.nn.CrossEntropyLoss()\n",
    "optimizer = optim.SGD(model.parameters(), lr=0.001, momentum=0.9)"
   ]
  },
  {
   "cell_type": "code",
   "execution_count": 349,
   "metadata": {},
   "outputs": [
    {
     "name": "stdout",
     "output_type": "stream",
     "text": [
      "Train Epoch: 0 [0/7070 (0%)]\tLoss: 0.698090\n",
      "Train Epoch: 0 [3200/7070 (45%)]\tLoss: 0.634418\n",
      "Train Epoch: 0 [6400/7070 (90%)]\tLoss: 0.474656\n",
      "Train Epoch: 1 [0/7070 (0%)]\tLoss: 0.468168\n",
      "Train Epoch: 1 [3200/7070 (45%)]\tLoss: 0.271469\n",
      "Train Epoch: 1 [6400/7070 (90%)]\tLoss: 0.159227\n",
      "Train Epoch: 2 [0/7070 (0%)]\tLoss: 0.175148\n",
      "Train Epoch: 2 [3200/7070 (45%)]\tLoss: 0.110718\n",
      "Train Epoch: 2 [6400/7070 (90%)]\tLoss: 0.085273\n",
      "Train Epoch: 3 [0/7070 (0%)]\tLoss: 0.049819\n",
      "Train Epoch: 3 [3200/7070 (45%)]\tLoss: 0.018452\n",
      "Train Epoch: 3 [6400/7070 (90%)]\tLoss: 0.008251\n",
      "Train Epoch: 4 [0/7070 (0%)]\tLoss: 0.028084\n",
      "Train Epoch: 4 [3200/7070 (45%)]\tLoss: 0.004529\n",
      "Train Epoch: 4 [6400/7070 (90%)]\tLoss: 0.004936\n",
      "Train Epoch: 5 [0/7070 (0%)]\tLoss: 0.008359\n",
      "Train Epoch: 5 [3200/7070 (45%)]\tLoss: 0.007792\n",
      "Train Epoch: 5 [6400/7070 (90%)]\tLoss: 0.009328\n",
      "Train Epoch: 6 [0/7070 (0%)]\tLoss: 0.008606\n",
      "Train Epoch: 6 [3200/7070 (45%)]\tLoss: 0.001415\n",
      "Train Epoch: 6 [6400/7070 (90%)]\tLoss: 0.003473\n",
      "Train Epoch: 7 [0/7070 (0%)]\tLoss: 0.009278\n",
      "Train Epoch: 7 [3200/7070 (45%)]\tLoss: 0.002605\n",
      "Train Epoch: 7 [6400/7070 (90%)]\tLoss: 0.002391\n",
      "Train Epoch: 8 [0/7070 (0%)]\tLoss: 0.000736\n",
      "Train Epoch: 8 [3200/7070 (45%)]\tLoss: 0.000973\n",
      "Train Epoch: 8 [6400/7070 (90%)]\tLoss: 0.002389\n",
      "Train Epoch: 9 [0/7070 (0%)]\tLoss: 0.000537\n",
      "Train Epoch: 9 [3200/7070 (45%)]\tLoss: 0.004061\n",
      "Train Epoch: 9 [6400/7070 (90%)]\tLoss: 0.000634\n"
     ]
    }
   ],
   "source": [
    "def train(model, device, train_loader, criterion, optimizer, epoch, log_interval):\n",
    "    model.train()\n",
    "    for batch_idx, (target, data) in enumerate(train_loader):\n",
    "        data, target = data.to(device), target.to(device)\n",
    "        optimizer.zero_grad()\n",
    "        output = model(data)\n",
    "        loss = criterion(output, target)\n",
    "        loss.backward()\n",
    "        optimizer.step()\n",
    "        if batch_idx % log_interval == 0:\n",
    "            print('Train Epoch: {} [{}/{} ({:.0f}%)]\\tLoss: {:.6f}'.format(\n",
    "                epoch, batch_idx * len(data), len(train_loader.dataset),\n",
    "                100. * batch_idx / len(train_loader), loss.item()))\n",
    "\n",
    "\n",
    "### Training ###         \n",
    "for epoch in range(10):\n",
    "    train(model, device, train_loader, criterion, optimizer, epoch, 100)"
   ]
  },
  {
   "cell_type": "code",
   "execution_count": 350,
   "metadata": {},
   "outputs": [
    {
     "name": "stdout",
     "output_type": "stream",
     "text": [
      "Accuracy: 0.997029702970297% over 3030 data points.\n"
     ]
    }
   ],
   "source": [
    "def test(model, device, dataset_test):\n",
    "    accuracy = 0\n",
    "    for i in range(len(dataset_test)):\n",
    "        output = np.argmax(model(dataset[i][1].view(-1, 1, 3098)).detach().numpy())\n",
    "        target = dataset[i][0]\n",
    "        accuracy += (output == target)\n",
    "        \n",
    "    accuracy /= len(dataset_test)\n",
    "    print(\"Accuracy: {}% over {} data points.\".format(accuracy, len(dataset_test)))\n",
    "    \n",
    "\n",
    "### Test ###\n",
    "test(model, device, dataset_test)"
   ]
  }
 ],
 "metadata": {
  "kernelspec": {
   "display_name": "Python 3",
   "language": "python",
   "name": "python3"
  },
  "language_info": {
   "codemirror_mode": {
    "name": "ipython",
    "version": 3
   },
   "file_extension": ".py",
   "mimetype": "text/x-python",
   "name": "python",
   "nbconvert_exporter": "python",
   "pygments_lexer": "ipython3",
   "version": "3.7.3"
  }
 },
 "nbformat": 4,
 "nbformat_minor": 2
}
